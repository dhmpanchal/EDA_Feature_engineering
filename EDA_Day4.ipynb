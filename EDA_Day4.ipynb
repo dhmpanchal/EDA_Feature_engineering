{
 "cells": [
  {
   "cell_type": "markdown",
   "id": "74ded0f3-b559-41d8-a893-1eef8b1b0d13",
   "metadata": {},
   "source": [
    "## Automated EDA Techniques\n",
    "1. pandas profiling"
   ]
  },
  {
   "cell_type": "code",
   "execution_count": 8,
   "id": "bc61019b-130b-4d03-a6e9-dee512611fb5",
   "metadata": {},
   "outputs": [],
   "source": [
    "from ydata_profiling import ProfileReport\n",
    "import pandas as pd\n",
    "import seaborn as sns\n",
    "import dtale\n",
    "\n",
    "#pip install sweetviz\n",
    "import sweetviz as sv"
   ]
  },
  {
   "cell_type": "code",
   "execution_count": 2,
   "id": "906ed254-78cc-4708-911a-95308f52fe84",
   "metadata": {},
   "outputs": [],
   "source": [
    "df=sns.load_dataset('tips')"
   ]
  },
  {
   "cell_type": "code",
   "execution_count": 3,
   "id": "ca89c456-3303-416b-9d85-dbc618ecc6af",
   "metadata": {},
   "outputs": [],
   "source": [
    "profile=ProfileReport(df, explorative=True, dark_mode=True)"
   ]
  },
  {
   "cell_type": "code",
   "execution_count": 4,
   "id": "b19029ef-319e-4b13-b7ad-c8d9d5bc2843",
   "metadata": {},
   "outputs": [],
   "source": [
    "# profile.to_file('output.html')"
   ]
  },
  {
   "cell_type": "markdown",
   "id": "a9eece8b-ed7c-4b54-b9aa-db2febf74d49",
   "metadata": {},
   "source": [
    "2. dtale module\n",
    "pip install dtale "
   ]
  },
  {
   "cell_type": "code",
   "execution_count": 5,
   "id": "330cf8ac-a2d2-4d50-8a8a-f4677f49c39a",
   "metadata": {},
   "outputs": [],
   "source": [
    "df1=sns.load_dataset('titanic')"
   ]
  },
  {
   "cell_type": "code",
   "execution_count": 6,
   "id": "db3b4e1f-9f0e-4942-ba44-7c476da8ab4d",
   "metadata": {},
   "outputs": [],
   "source": [
    "# dtale.show(df1)"
   ]
  },
  {
   "cell_type": "markdown",
   "id": "9bae42f2-ab4b-4c1a-9c01-7119bf557755",
   "metadata": {},
   "source": [
    "3.**Sweetviz** for visualization"
   ]
  },
  {
   "cell_type": "code",
   "execution_count": 10,
   "id": "7f3474dc-4e81-4ac5-9641-11822d55f11a",
   "metadata": {},
   "outputs": [],
   "source": [
    "# report=sv.analyze(source=df1)\n",
    "# report.show_html('report1.html')"
   ]
  },
  {
   "cell_type": "markdown",
   "id": "458f95ee-221d-48f2-b176-acfaabc54c68",
   "metadata": {},
   "source": [
    "4. dataprep"
   ]
  },
  {
   "cell_type": "code",
   "execution_count": 17,
   "id": "e613072d-3fd3-42e5-9184-9799fe179f56",
   "metadata": {},
   "outputs": [],
   "source": [
    "#pip install dataprep\n",
    "from dataprep.eda import create_report\n",
    "from dataprep.datasets import load_dataset"
   ]
  },
  {
   "cell_type": "code",
   "execution_count": 19,
   "id": "5e9c17a5-3ec3-49a6-8d49-304c4d260bf4",
   "metadata": {},
   "outputs": [],
   "source": [
    "# df2 = load_dataset(\"titanic\")\n",
    "# create_report(df2).show_browser()"
   ]
  },
  {
   "cell_type": "code",
   "execution_count": null,
   "id": "ca3d91bc-da35-4c81-ad4e-40f0f1c75ae3",
   "metadata": {},
   "outputs": [],
   "source": []
  }
 ],
 "metadata": {
  "kernelspec": {
   "display_name": "Python 3 (ipykernel)",
   "language": "python",
   "name": "python3"
  },
  "language_info": {
   "codemirror_mode": {
    "name": "ipython",
    "version": 3
   },
   "file_extension": ".py",
   "mimetype": "text/x-python",
   "name": "python",
   "nbconvert_exporter": "python",
   "pygments_lexer": "ipython3",
   "version": "3.9.16"
  }
 },
 "nbformat": 4,
 "nbformat_minor": 5
}
